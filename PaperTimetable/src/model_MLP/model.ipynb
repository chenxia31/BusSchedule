{
 "cells": [
  {
   "cell_type": "code",
   "execution_count": 86,
   "metadata": {},
   "outputs": [
    {
     "data": {
      "text/plain": [
       "16"
      ]
     },
     "execution_count": 86,
     "metadata": {},
     "output_type": "execute_result"
    }
   ],
   "source": [
    "import pickle\n",
    "import sys\n",
    "sys.path.append('')\n",
    "sys.path.append('../')\n",
    "sys.path.append('../../data/virtualTimetable/')\n",
    "sys.path.append('/home/step/data/xcl/JDBUSgroup')\n",
    "with open('/home/step/data/xcl/JDBUSgroup/data/virtualTimetable/timetableSeqGroundTruth.pkl','rb') as f:\n",
    "    data = pickle.load(f)\n",
    "\n",
    "# 生成的data的应该是按照字典顺序排列的\n",
    "assert isinstance(data,dict)\n",
    "\n",
    "# 返回结果的形式应该是\n",
    "    # res={\n",
    "    #     'timetableChain':timetableChain,\n",
    "    #     'headwayPoint':headwayPoint,\n",
    "    #     'headwayTime':headwayTime,\n",
    "    #     'runningPoint':runningPoint,\n",
    "    #     'runningTime':runningTime,\n",
    "    #     'mealInterval':mealInterval,\n",
    "    #     'mealCount':mealCount,\n",
    "    #     'workmodeInterval':workmodeInterval,\n",
    "    #     'workmodeCount':workmodeCount\n",
    "    # }\n",
    "len(data)"
   ]
  },
  {
   "cell_type": "code",
   "execution_count": 87,
   "metadata": {},
   "outputs": [
    {
     "name": "stdout",
     "output_type": "stream",
     "text": [
      "嘉定56路weekend\n"
     ]
    }
   ],
   "source": [
    "index = [i for i in data]\n",
    "print(index[5])\n",
    "test =  data[index[5]]['seqTimetable']"
   ]
  },
  {
   "cell_type": "code",
   "execution_count": 88,
   "metadata": {},
   "outputs": [
    {
     "name": "stdout",
     "output_type": "stream",
     "text": [
      "     depature time  direction  index  running time\n",
      "0              390          0      1            35\n",
      "1              430          1      1            50\n",
      "2              495          0      1            40\n",
      "3              540          1      1            40\n",
      "4              615          0      1            40\n",
      "..             ...        ...    ...           ...\n",
      "132            765          1     10            40\n",
      "133           1062          0     10            40\n",
      "134           1107          1     10            45\n",
      "135           1185          0     10            35\n",
      "136           1225          1     10            30\n",
      "\n",
      "[137 rows x 4 columns]\n"
     ]
    }
   ],
   "source": [
    "print(test)\n",
    "# 解析生成timetable array,根据[depature time,arrival time,index,pattern,workmode]来得到长序列"
   ]
  },
  {
   "cell_type": "code",
   "execution_count": 89,
   "metadata": {},
   "outputs": [],
   "source": [
    "import torch\n",
    "import torch.nn as nn \n",
    "import numpy as np\n",
    "from  torch.utils.data import TensorDataset\n",
    "from torch.utils.data import DataLoader\n",
    "myArray = np.array(test)\n",
    "myArray = myArray[myArray[:,0].argsort()]\n",
    "myArray[:,0] = myArray[:,0]/3600\n",
    "myArray[:,-1] = myArray[:,-1]/60\n",
    "rawDataset = torch.tensor(myArray,dtype = torch.float)\n",
    "\n",
    "numsteps = 4\n",
    "length = len(rawDataset)\n",
    "features = torch.zeros(length-numsteps,numsteps,2)\n",
    "for i in range(numsteps):\n",
    "    features[:,i,:] = rawDataset[i:length-numsteps+i,[0,3]]\n",
    "targets = rawDataset[numsteps:,[0,3]]\n",
    "\n",
    "seqdataset = TensorDataset(features,targets)\n",
    "\n",
    "batchsize = 16\n",
    "data_iter = DataLoader(seqdataset,batch_size = batchsize,shuffle = True)\n"
   ]
  },
  {
   "cell_type": "code",
   "execution_count": 90,
   "metadata": {},
   "outputs": [
    {
     "name": "stdout",
     "output_type": "stream",
     "text": [
      "torch.Size([16, 4, 2])\n",
      "torch.Size([16, 2])\n",
      "torch.Size([16, 4, 2])\n",
      "torch.Size([16, 2])\n",
      "torch.Size([16, 4, 2])\n",
      "torch.Size([16, 2])\n",
      "torch.Size([16, 4, 2])\n",
      "torch.Size([16, 2])\n",
      "torch.Size([16, 4, 2])\n",
      "torch.Size([16, 2])\n",
      "torch.Size([16, 4, 2])\n",
      "torch.Size([16, 2])\n",
      "torch.Size([16, 4, 2])\n",
      "torch.Size([16, 2])\n",
      "torch.Size([16, 4, 2])\n",
      "torch.Size([16, 2])\n",
      "torch.Size([5, 4, 2])\n",
      "torch.Size([5, 2])\n"
     ]
    }
   ],
   "source": [
    "for X,y in data_iter:\n",
    "    print(X.shape)\n",
    "    print(y.shape)"
   ]
  },
  {
   "cell_type": "code",
   "execution_count": 91,
   "metadata": {},
   "outputs": [
    {
     "data": {
      "text/plain": [
       "net(\n",
       "  (layer1): Linear(in_features=2, out_features=10, bias=True)\n",
       "  (layer2): Linear(in_features=10, out_features=1, bias=True)\n",
       ")"
      ]
     },
     "execution_count": 91,
     "metadata": {},
     "output_type": "execute_result"
    }
   ],
   "source": [
    "class net(nn.Module):\n",
    "    def __init__(self, *args, **kwargs):\n",
    "        super().__init__(*args, **kwargs)\n",
    "        self.layer1 = nn.Linear(2,10)\n",
    "        self.layer2 = nn.Linear(10,1)\n",
    "    \n",
    "    def forward(self,X):\n",
    "        '''X 的输入4*4'''\n",
    "        y1 = nn.functional.relu(self.layer1(X))\n",
    "        return self.layer2(y1)\n",
    "\n",
    "def init_weigt(m):\n",
    "    if type(m) == nn.Linear:\n",
    "        nn.init.xavier_uniform_(m.weight)\n",
    "\n",
    "model = net()\n",
    "model.apply(init_weigt)"
   ]
  },
  {
   "cell_type": "code",
   "execution_count": 93,
   "metadata": {},
   "outputs": [
    {
     "name": "stdout",
     "output_type": "stream",
     "text": [
      "torch.Size([16, 4])\n"
     ]
    },
    {
     "name": "stderr",
     "output_type": "stream",
     "text": [
      "/home/step/anaconda3/envs/xclds/lib/python3.9/site-packages/torch/nn/_reduction.py:42: UserWarning: size_average and reduce args will be deprecated, please use reduction='mean' instead.\n",
      "  warnings.warn(warning.format(ret))\n",
      "/home/step/anaconda3/envs/xclds/lib/python3.9/site-packages/torch/nn/modules/loss.py:530: UserWarning: Using a target size (torch.Size([16, 2])) that is different to the input size (torch.Size([16, 4])). This will likely lead to incorrect results due to broadcasting. Please ensure they have the same size.\n",
      "  return F.mse_loss(input, target, reduction=self.reduction)\n"
     ]
    },
    {
     "ename": "RuntimeError",
     "evalue": "The size of tensor a (4) must match the size of tensor b (2) at non-singleton dimension 1",
     "output_type": "error",
     "traceback": [
      "\u001b[0;31m---------------------------------------------------------------------------\u001b[0m",
      "\u001b[0;31mRuntimeError\u001b[0m                              Traceback (most recent call last)",
      "Cell \u001b[0;32mIn [93], line 13\u001b[0m\n\u001b[1;32m     11\u001b[0m y_hat \u001b[38;5;241m=\u001b[39m y_hat\u001b[38;5;241m.\u001b[39msqueeze(\u001b[38;5;241m-\u001b[39m\u001b[38;5;241m1\u001b[39m)\n\u001b[1;32m     12\u001b[0m \u001b[38;5;28mprint\u001b[39m(y_hat\u001b[38;5;241m.\u001b[39mshape)\n\u001b[0;32m---> 13\u001b[0m l \u001b[38;5;241m=\u001b[39m loss(y_hat,y)\n\u001b[1;32m     14\u001b[0m l\u001b[38;5;241m.\u001b[39mmean()\u001b[38;5;241m.\u001b[39mbackward()\n\u001b[1;32m     15\u001b[0m opt\u001b[38;5;241m.\u001b[39mstep()\n",
      "File \u001b[0;32m~/anaconda3/envs/xclds/lib/python3.9/site-packages/torch/nn/modules/module.py:1130\u001b[0m, in \u001b[0;36mModule._call_impl\u001b[0;34m(self, *input, **kwargs)\u001b[0m\n\u001b[1;32m   1126\u001b[0m \u001b[39m# If we don't have any hooks, we want to skip the rest of the logic in\u001b[39;00m\n\u001b[1;32m   1127\u001b[0m \u001b[39m# this function, and just call forward.\u001b[39;00m\n\u001b[1;32m   1128\u001b[0m \u001b[39mif\u001b[39;00m \u001b[39mnot\u001b[39;00m (\u001b[39mself\u001b[39m\u001b[39m.\u001b[39m_backward_hooks \u001b[39mor\u001b[39;00m \u001b[39mself\u001b[39m\u001b[39m.\u001b[39m_forward_hooks \u001b[39mor\u001b[39;00m \u001b[39mself\u001b[39m\u001b[39m.\u001b[39m_forward_pre_hooks \u001b[39mor\u001b[39;00m _global_backward_hooks\n\u001b[1;32m   1129\u001b[0m         \u001b[39mor\u001b[39;00m _global_forward_hooks \u001b[39mor\u001b[39;00m _global_forward_pre_hooks):\n\u001b[0;32m-> 1130\u001b[0m     \u001b[39mreturn\u001b[39;00m forward_call(\u001b[39m*\u001b[39;49m\u001b[39minput\u001b[39;49m, \u001b[39m*\u001b[39;49m\u001b[39m*\u001b[39;49mkwargs)\n\u001b[1;32m   1131\u001b[0m \u001b[39m# Do not call functions when jit is used\u001b[39;00m\n\u001b[1;32m   1132\u001b[0m full_backward_hooks, non_full_backward_hooks \u001b[39m=\u001b[39m [], []\n",
      "File \u001b[0;32m~/anaconda3/envs/xclds/lib/python3.9/site-packages/torch/nn/modules/loss.py:530\u001b[0m, in \u001b[0;36mMSELoss.forward\u001b[0;34m(self, input, target)\u001b[0m\n\u001b[1;32m    529\u001b[0m \u001b[39mdef\u001b[39;00m \u001b[39mforward\u001b[39m(\u001b[39mself\u001b[39m, \u001b[39minput\u001b[39m: Tensor, target: Tensor) \u001b[39m-\u001b[39m\u001b[39m>\u001b[39m Tensor:\n\u001b[0;32m--> 530\u001b[0m     \u001b[39mreturn\u001b[39;00m F\u001b[39m.\u001b[39;49mmse_loss(\u001b[39minput\u001b[39;49m, target, reduction\u001b[39m=\u001b[39;49m\u001b[39mself\u001b[39;49m\u001b[39m.\u001b[39;49mreduction)\n",
      "File \u001b[0;32m~/anaconda3/envs/xclds/lib/python3.9/site-packages/torch/nn/functional.py:3279\u001b[0m, in \u001b[0;36mmse_loss\u001b[0;34m(input, target, size_average, reduce, reduction)\u001b[0m\n\u001b[1;32m   3276\u001b[0m \u001b[39mif\u001b[39;00m size_average \u001b[39mis\u001b[39;00m \u001b[39mnot\u001b[39;00m \u001b[39mNone\u001b[39;00m \u001b[39mor\u001b[39;00m reduce \u001b[39mis\u001b[39;00m \u001b[39mnot\u001b[39;00m \u001b[39mNone\u001b[39;00m:\n\u001b[1;32m   3277\u001b[0m     reduction \u001b[39m=\u001b[39m _Reduction\u001b[39m.\u001b[39mlegacy_get_string(size_average, reduce)\n\u001b[0;32m-> 3279\u001b[0m expanded_input, expanded_target \u001b[39m=\u001b[39m torch\u001b[39m.\u001b[39;49mbroadcast_tensors(\u001b[39minput\u001b[39;49m, target)\n\u001b[1;32m   3280\u001b[0m \u001b[39mreturn\u001b[39;00m torch\u001b[39m.\u001b[39m_C\u001b[39m.\u001b[39m_nn\u001b[39m.\u001b[39mmse_loss(expanded_input, expanded_target, _Reduction\u001b[39m.\u001b[39mget_enum(reduction))\n",
      "File \u001b[0;32m~/anaconda3/envs/xclds/lib/python3.9/site-packages/torch/functional.py:73\u001b[0m, in \u001b[0;36mbroadcast_tensors\u001b[0;34m(*tensors)\u001b[0m\n\u001b[1;32m     71\u001b[0m \u001b[39mif\u001b[39;00m has_torch_function(tensors):\n\u001b[1;32m     72\u001b[0m     \u001b[39mreturn\u001b[39;00m handle_torch_function(broadcast_tensors, tensors, \u001b[39m*\u001b[39mtensors)\n\u001b[0;32m---> 73\u001b[0m \u001b[39mreturn\u001b[39;00m _VF\u001b[39m.\u001b[39;49mbroadcast_tensors(tensors)\n",
      "\u001b[0;31mRuntimeError\u001b[0m: The size of tensor a (4) must match the size of tensor b (2) at non-singleton dimension 1"
     ]
    }
   ],
   "source": [
    "loss = nn.MSELoss(reduce='none')\n",
    "opt = torch.optim.Adam(model.parameters(),lr=0.03)\n",
    "epoches = 100\n",
    "device = torch.device('cuda')\n",
    "model = model.to(device)\n",
    "for epoch in range(epoches):\n",
    "    for X,y in data_iter:\n",
    "        X,y = X.to(device),y.to(device)\n",
    "        opt.zero_grad()\n",
    "        y_hat = model(X)\n",
    "        y_hat = y_hat.squeeze(-1)\n",
    "        print(y_hat.shape)\n",
    "        l = loss(y_hat,y)\n",
    "        l.mean().backward()\n",
    "        opt.step()\n",
    "        print(l.mean())"
   ]
  }
 ],
 "metadata": {
  "kernelspec": {
   "display_name": "Python 3.9.13 ('xclds')",
   "language": "python",
   "name": "python3"
  },
  "language_info": {
   "codemirror_mode": {
    "name": "ipython",
    "version": 3
   },
   "file_extension": ".py",
   "mimetype": "text/x-python",
   "name": "python",
   "nbconvert_exporter": "python",
   "pygments_lexer": "ipython3",
   "version": "3.9.13"
  },
  "orig_nbformat": 4,
  "vscode": {
   "interpreter": {
    "hash": "9f1e55e74c766e763530812631a72120f1fc83c0fcf0b61c7a0638716cdefb0e"
   }
  }
 },
 "nbformat": 4,
 "nbformat_minor": 2
}
