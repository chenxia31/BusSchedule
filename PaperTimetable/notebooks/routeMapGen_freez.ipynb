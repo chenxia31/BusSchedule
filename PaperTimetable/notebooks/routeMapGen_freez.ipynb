{
 "cells": [
  {
   "cell_type": "code",
   "execution_count": 1,
   "metadata": {},
   "outputs": [],
   "source": [
    "# 目标线路嘉定70路和嘉定56路\n",
    "import pandas as pd\n",
    "import numpy as np\n",
    "import matplotlib.pyplot as plt\n",
    "df = pd.read_csv('../../data/jdbusmap.csv')\n",
    "df_map = df[~df['section_name'].str.contains('临时路段')]"
   ]
  },
  {
   "cell_type": "code",
   "execution_count": 7,
   "metadata": {},
   "outputs": [
    {
     "data": {
      "text/plain": [
       "2"
      ]
     },
     "execution_count": 7,
     "metadata": {},
     "output_type": "execute_result"
    }
   ],
   "source": [
    "TARGET_ROUTE1 = \"嘉定70路\"\n",
    "TARGET_ROUTE2 = '嘉定56路'\n",
    "TARGET_ROUTE3 = '嘉定104路'\n",
    "sum(df_map['name'] ==TARGET_ROUTE3)"
   ]
  },
  {
   "cell_type": "code",
   "execution_count": 4,
   "metadata": {},
   "outputs": [
    {
     "ename": "NameError",
     "evalue": "name 'df_target' is not defined",
     "output_type": "error",
     "traceback": [
      "\u001b[0;31m---------------------------------------------------------------------------\u001b[0m",
      "\u001b[0;31mNameError\u001b[0m                                 Traceback (most recent call last)",
      "Cell \u001b[0;32mIn [4], line 6\u001b[0m\n\u001b[1;32m      3\u001b[0m     points \u001b[38;5;241m=\u001b[39m [\u001b[38;5;28mtuple\u001b[39m(\u001b[38;5;28mmap\u001b[39m(\u001b[38;5;28mfloat\u001b[39m, coord\u001b[38;5;241m.\u001b[39msplit())) \u001b[38;5;28;01mfor\u001b[39;00m coord \u001b[38;5;129;01min\u001b[39;00m coords]\n\u001b[1;32m      4\u001b[0m     \u001b[38;5;28;01mreturn\u001b[39;00m points\n\u001b[0;32m----> 6\u001b[0m section1_coords \u001b[38;5;241m=\u001b[39m convert_to_standard_form(df_target[\u001b[38;5;124m'\u001b[39m\u001b[38;5;124mbsection_vector\u001b[39m\u001b[38;5;124m'\u001b[39m][\u001b[38;5;241m0\u001b[39m])\n\u001b[1;32m      7\u001b[0m section1_coords\n\u001b[1;32m      9\u001b[0m \u001b[38;5;28;01mdef\u001b[39;00m \u001b[38;5;21mgen_route_map\u001b[39m(target,col):\n",
      "\u001b[0;31mNameError\u001b[0m: name 'df_target' is not defined"
     ]
    }
   ],
   "source": [
    "def convert_to_standard_form(line):\n",
    "    coords = line[line.index(\"(\") + 1 : line.index(\")\")].split(\", \")\n",
    "    points = [tuple(map(float, coord.split())) for coord in coords]\n",
    "    return points\n",
    "\n",
    "section1_coords = convert_to_standard_form(df_target['bsection_vector'][0])\n",
    "section1_coords\n",
    "\n",
    "def gen_route_map(target,col):\n",
    "    df_target = df_map.loc[df_map['name']==target,:].reset_index(drop=True)\n",
    "    res = []\n",
    "    for sec in df_target[col]:\n",
    "        sec_coord = convert_to_standard_form(sec)\n",
    "        # 纬度和经度\n",
    "        res.extend(sec_coord)\n",
    "    temp_df = pd.DataFrame(res, columns=['lat', 'lon'])\n",
    "    temp_df.to_csv('../../output/'+target+col[0]+'.csv')\n",
    "\n",
    "col = 'gsection_vector'\n",
    "title = TARGET_ROUTE3\n",
    "gen_route_map(title,col)\n"
   ]
  },
  {
   "cell_type": "code",
   "execution_count": 50,
   "metadata": {},
   "outputs": [
    {
     "data": {
      "text/plain": [
       "[(31.324166, 121.233572),\n",
       " (31.324015, 121.229121),\n",
       " (31.323097, 121.225429),\n",
       " (31.319897, 121.227967),\n",
       " (31.319403, 121.228178),\n",
       " (31.31719, 121.223907)]"
      ]
     },
     "execution_count": 50,
     "metadata": {},
     "output_type": "execute_result"
    }
   ],
   "source": []
  },
  {
   "cell_type": "code",
   "execution_count": 61,
   "metadata": {},
   "outputs": [],
   "source": []
  },
  {
   "cell_type": "code",
   "execution_count": 55,
   "metadata": {},
   "outputs": [
    {
     "name": "stdout",
     "output_type": "stream",
     "text": [
      "[(31.324166, 121.233572), (31.324015, 121.229121), (31.323097, 121.225429), (31.319897, 121.227967), (31.319403, 121.228178), (31.31719, 121.223907)]\n",
      "[(31.317186, 121.223938), (31.319326, 121.22207), (31.316492, 121.217017), (31.314398, 121.212705)]\n",
      "[(31.31439, 121.212727), (31.316345, 121.21164), (31.315189, 121.20939), (31.317479, 121.207944)]\n",
      "[(31.317456, 121.207962), (31.315879, 121.20431), (31.315262, 121.202841), (31.314367, 121.200829), (31.313854, 121.199576), (31.313673, 121.198511), (31.313708, 121.19755)]\n",
      "[(31.324166, 121.233572), (31.324015, 121.229121), (31.323097, 121.225429), (31.319897, 121.227967), (31.319403, 121.228178), (31.31719, 121.223907)]\n",
      "[(31.317186, 121.223938), (31.319326, 121.22207), (31.316492, 121.217017), (31.314398, 121.212705)]\n",
      "[(31.31439, 121.212727), (31.316345, 121.21164), (31.315189, 121.20939), (31.317479, 121.207944)]\n",
      "[(31.317456, 121.207962), (31.315879, 121.20431), (31.315262, 121.202841), (31.314367, 121.200829), (31.313854, 121.199576), (31.313673, 121.198511), (31.313708, 121.19755)]\n",
      "[(31.324162, 121.233537), (31.327435, 121.230375), (31.327944, 121.229477), (31.331368, 121.226063), (31.335624, 121.222075), (31.336765, 121.224734), (31.337043, 121.227465), (31.335902, 121.232064), (31.336179, 121.234184), (31.337012, 121.235981), (31.336426, 121.241586), (31.33655, 121.243167), (31.33692, 121.244533), (31.339171, 121.250246), (31.340713, 121.253228), (31.341145, 121.254342), (31.34165, 121.255276), (31.333338, 121.260181), (31.334479, 121.263514), (31.337348, 121.26187)]\n",
      "[(31.324223, 121.233591), (31.327227, 121.230536), (31.327906, 121.229512), (31.329371, 121.227913), (31.335679, 121.222092), (31.33665, 121.224446), (31.337113, 121.226584), (31.33682, 121.229135), (31.335848, 121.232548), (31.336912, 121.23598), (31.33702, 121.236932), (31.336959, 121.23783), (31.336373, 121.242106), (31.336866, 121.244424), (31.341153, 121.254197), (31.341435, 121.25515), (31.333169, 121.260252), (31.334048, 121.262121), (31.336731, 121.260702)]\n"
     ]
    },
    {
     "data": {
      "text/html": [
       "<div style=\"width:100%;\"><div style=\"position:relative;width:100%;height:0;padding-bottom:60%;\"><span style=\"color:#565656\">Make this Notebook Trusted to load map: File -> Trust Notebook</span><iframe srcdoc=\"&lt;!DOCTYPE html&gt;\n",
       "&lt;html&gt;\n",
       "&lt;head&gt;\n",
       "    \n",
       "    &lt;meta http-equiv=&quot;content-type&quot; content=&quot;text/html; charset=UTF-8&quot; /&gt;\n",
       "    \n",
       "        &lt;script&gt;\n",
       "            L_NO_TOUCH = false;\n",
       "            L_DISABLE_3D = false;\n",
       "        &lt;/script&gt;\n",
       "    \n",
       "    &lt;style&gt;html, body {width: 100%;height: 100%;margin: 0;padding: 0;}&lt;/style&gt;\n",
       "    &lt;style&gt;#map {position:absolute;top:0;bottom:0;right:0;left:0;}&lt;/style&gt;\n",
       "    &lt;script src=&quot;https://cdn.jsdelivr.net/npm/leaflet@1.9.3/dist/leaflet.js&quot;&gt;&lt;/script&gt;\n",
       "    &lt;script src=&quot;https://code.jquery.com/jquery-1.12.4.min.js&quot;&gt;&lt;/script&gt;\n",
       "    &lt;script src=&quot;https://cdn.jsdelivr.net/npm/bootstrap@5.2.2/dist/js/bootstrap.bundle.min.js&quot;&gt;&lt;/script&gt;\n",
       "    &lt;script src=&quot;https://cdnjs.cloudflare.com/ajax/libs/Leaflet.awesome-markers/2.0.2/leaflet.awesome-markers.js&quot;&gt;&lt;/script&gt;\n",
       "    &lt;link rel=&quot;stylesheet&quot; href=&quot;https://cdn.jsdelivr.net/npm/leaflet@1.9.3/dist/leaflet.css&quot;/&gt;\n",
       "    &lt;link rel=&quot;stylesheet&quot; href=&quot;https://cdn.jsdelivr.net/npm/bootstrap@5.2.2/dist/css/bootstrap.min.css&quot;/&gt;\n",
       "    &lt;link rel=&quot;stylesheet&quot; href=&quot;https://netdna.bootstrapcdn.com/bootstrap/3.0.0/css/bootstrap.min.css&quot;/&gt;\n",
       "    &lt;link rel=&quot;stylesheet&quot; href=&quot;https://cdn.jsdelivr.net/npm/@fortawesome/fontawesome-free@6.2.0/css/all.min.css&quot;/&gt;\n",
       "    &lt;link rel=&quot;stylesheet&quot; href=&quot;https://cdnjs.cloudflare.com/ajax/libs/Leaflet.awesome-markers/2.0.2/leaflet.awesome-markers.css&quot;/&gt;\n",
       "    &lt;link rel=&quot;stylesheet&quot; href=&quot;https://cdn.jsdelivr.net/gh/python-visualization/folium/folium/templates/leaflet.awesome.rotate.min.css&quot;/&gt;\n",
       "    \n",
       "            &lt;meta name=&quot;viewport&quot; content=&quot;width=device-width,\n",
       "                initial-scale=1.0, maximum-scale=1.0, user-scalable=no&quot; /&gt;\n",
       "            &lt;style&gt;\n",
       "                #map_78877812e1cf993f2bf61f3787c2a176 {\n",
       "                    position: relative;\n",
       "                    width: 100.0%;\n",
       "                    height: 100.0%;\n",
       "                    left: 0.0%;\n",
       "                    top: 0.0%;\n",
       "                }\n",
       "                .leaflet-container { font-size: 1rem; }\n",
       "            &lt;/style&gt;\n",
       "        \n",
       "&lt;/head&gt;\n",
       "&lt;body&gt;\n",
       "    \n",
       "    \n",
       "            &lt;div class=&quot;folium-map&quot; id=&quot;map_78877812e1cf993f2bf61f3787c2a176&quot; &gt;&lt;/div&gt;\n",
       "        \n",
       "&lt;/body&gt;\n",
       "&lt;script&gt;\n",
       "    \n",
       "    \n",
       "            var map_78877812e1cf993f2bf61f3787c2a176 = L.map(\n",
       "                &quot;map_78877812e1cf993f2bf61f3787c2a176&quot;,\n",
       "                {\n",
       "                    center: [31.3189, 121.4346],\n",
       "                    crs: L.CRS.EPSG3857,\n",
       "                    zoom: 12,\n",
       "                    zoomControl: true,\n",
       "                    preferCanvas: true,\n",
       "                    alpha: 0.5,\n",
       "                }\n",
       "            );\n",
       "\n",
       "            \n",
       "\n",
       "        \n",
       "    \n",
       "            var tile_layer_a8a9260cec07f4271629d13bd7c85c66 = L.tileLayer(\n",
       "                &quot;https://stamen-tiles-{s}.a.ssl.fastly.net/toner/{z}/{x}/{y}.png&quot;,\n",
       "                {&quot;attribution&quot;: &quot;Map tiles by \\u003ca target=\\&quot;_blank\\&quot; href=\\&quot;http://stamen.com\\&quot;\\u003eStamen Design\\u003c/a\\u003e, under \\u003ca target=\\&quot;_blank\\&quot; href=\\&quot;http://creativecommons.org/licenses/by/3.0\\&quot;\\u003eCC BY 3.0\\u003c/a\\u003e. Data by \\u0026copy; \\u003ca target=\\&quot;_blank\\&quot; href=\\&quot;http://openstreetmap.org\\&quot;\\u003eOpenStreetMap\\u003c/a\\u003e, under \\u003ca target=\\&quot;_blank\\&quot; href=\\&quot;http://www.openstreetmap.org/copyright\\&quot;\\u003eODbL\\u003c/a\\u003e.&quot;, &quot;detectRetina&quot;: false, &quot;maxNativeZoom&quot;: 18, &quot;maxZoom&quot;: 18, &quot;minZoom&quot;: 0, &quot;noWrap&quot;: false, &quot;opacity&quot;: 1, &quot;subdomains&quot;: &quot;abc&quot;, &quot;tms&quot;: false}\n",
       "            ).addTo(map_78877812e1cf993f2bf61f3787c2a176);\n",
       "        \n",
       "    \n",
       "            var poly_line_c418dd6c57941dd4a3e148187759ef3a = L.polyline(\n",
       "                [[31.324166, 121.233572], [31.324015, 121.229121], [31.323097, 121.225429], [31.319897, 121.227967], [31.319403, 121.228178], [31.31719, 121.223907]],\n",
       "                {&quot;bubblingMouseEvents&quot;: true, &quot;color&quot;: &quot;green&quot;, &quot;dashArray&quot;: null, &quot;dashOffset&quot;: null, &quot;fill&quot;: false, &quot;fillColor&quot;: &quot;green&quot;, &quot;fillOpacity&quot;: 0.2, &quot;fillRule&quot;: &quot;evenodd&quot;, &quot;lineCap&quot;: &quot;round&quot;, &quot;lineJoin&quot;: &quot;round&quot;, &quot;noClip&quot;: false, &quot;opacity&quot;: 1, &quot;smoothFactor&quot;: 1.0, &quot;stroke&quot;: true, &quot;weight&quot;: 2.5}\n",
       "            ).addTo(map_78877812e1cf993f2bf61f3787c2a176);\n",
       "        \n",
       "    \n",
       "            var poly_line_be0e20c010f319263145a23ff5353100 = L.polyline(\n",
       "                [[31.317186, 121.223938], [31.319326, 121.22207], [31.316492, 121.217017], [31.314398, 121.212705]],\n",
       "                {&quot;bubblingMouseEvents&quot;: true, &quot;color&quot;: &quot;green&quot;, &quot;dashArray&quot;: null, &quot;dashOffset&quot;: null, &quot;fill&quot;: false, &quot;fillColor&quot;: &quot;green&quot;, &quot;fillOpacity&quot;: 0.2, &quot;fillRule&quot;: &quot;evenodd&quot;, &quot;lineCap&quot;: &quot;round&quot;, &quot;lineJoin&quot;: &quot;round&quot;, &quot;noClip&quot;: false, &quot;opacity&quot;: 1, &quot;smoothFactor&quot;: 1.0, &quot;stroke&quot;: true, &quot;weight&quot;: 2.5}\n",
       "            ).addTo(map_78877812e1cf993f2bf61f3787c2a176);\n",
       "        \n",
       "    \n",
       "            var poly_line_a6767dfd974e10e217ced20bc12eb7df = L.polyline(\n",
       "                [[31.31439, 121.212727], [31.316345, 121.21164], [31.315189, 121.20939], [31.317479, 121.207944]],\n",
       "                {&quot;bubblingMouseEvents&quot;: true, &quot;color&quot;: &quot;green&quot;, &quot;dashArray&quot;: null, &quot;dashOffset&quot;: null, &quot;fill&quot;: false, &quot;fillColor&quot;: &quot;green&quot;, &quot;fillOpacity&quot;: 0.2, &quot;fillRule&quot;: &quot;evenodd&quot;, &quot;lineCap&quot;: &quot;round&quot;, &quot;lineJoin&quot;: &quot;round&quot;, &quot;noClip&quot;: false, &quot;opacity&quot;: 1, &quot;smoothFactor&quot;: 1.0, &quot;stroke&quot;: true, &quot;weight&quot;: 2.5}\n",
       "            ).addTo(map_78877812e1cf993f2bf61f3787c2a176);\n",
       "        \n",
       "    \n",
       "            var poly_line_f2449637e8cd94042a0d4d5513db5bfd = L.polyline(\n",
       "                [[31.317456, 121.207962], [31.315879, 121.20431], [31.315262, 121.202841], [31.314367, 121.200829], [31.313854, 121.199576], [31.313673, 121.198511], [31.313708, 121.19755]],\n",
       "                {&quot;bubblingMouseEvents&quot;: true, &quot;color&quot;: &quot;green&quot;, &quot;dashArray&quot;: null, &quot;dashOffset&quot;: null, &quot;fill&quot;: false, &quot;fillColor&quot;: &quot;green&quot;, &quot;fillOpacity&quot;: 0.2, &quot;fillRule&quot;: &quot;evenodd&quot;, &quot;lineCap&quot;: &quot;round&quot;, &quot;lineJoin&quot;: &quot;round&quot;, &quot;noClip&quot;: false, &quot;opacity&quot;: 1, &quot;smoothFactor&quot;: 1.0, &quot;stroke&quot;: true, &quot;weight&quot;: 2.5}\n",
       "            ).addTo(map_78877812e1cf993f2bf61f3787c2a176);\n",
       "        \n",
       "    \n",
       "            var poly_line_88738a75c0ee0c03941772cdd59f61b2 = L.polyline(\n",
       "                [[31.324166, 121.233572], [31.324015, 121.229121], [31.323097, 121.225429], [31.319897, 121.227967], [31.319403, 121.228178], [31.31719, 121.223907]],\n",
       "                {&quot;bubblingMouseEvents&quot;: true, &quot;color&quot;: &quot;green&quot;, &quot;dashArray&quot;: null, &quot;dashOffset&quot;: null, &quot;fill&quot;: false, &quot;fillColor&quot;: &quot;green&quot;, &quot;fillOpacity&quot;: 0.2, &quot;fillRule&quot;: &quot;evenodd&quot;, &quot;lineCap&quot;: &quot;round&quot;, &quot;lineJoin&quot;: &quot;round&quot;, &quot;noClip&quot;: false, &quot;opacity&quot;: 1, &quot;smoothFactor&quot;: 1.0, &quot;stroke&quot;: true, &quot;weight&quot;: 2.5}\n",
       "            ).addTo(map_78877812e1cf993f2bf61f3787c2a176);\n",
       "        \n",
       "    \n",
       "            var poly_line_728c9f3cc5489f4380b1f9bf9d77a621 = L.polyline(\n",
       "                [[31.317186, 121.223938], [31.319326, 121.22207], [31.316492, 121.217017], [31.314398, 121.212705]],\n",
       "                {&quot;bubblingMouseEvents&quot;: true, &quot;color&quot;: &quot;green&quot;, &quot;dashArray&quot;: null, &quot;dashOffset&quot;: null, &quot;fill&quot;: false, &quot;fillColor&quot;: &quot;green&quot;, &quot;fillOpacity&quot;: 0.2, &quot;fillRule&quot;: &quot;evenodd&quot;, &quot;lineCap&quot;: &quot;round&quot;, &quot;lineJoin&quot;: &quot;round&quot;, &quot;noClip&quot;: false, &quot;opacity&quot;: 1, &quot;smoothFactor&quot;: 1.0, &quot;stroke&quot;: true, &quot;weight&quot;: 2.5}\n",
       "            ).addTo(map_78877812e1cf993f2bf61f3787c2a176);\n",
       "        \n",
       "    \n",
       "            var poly_line_6dd931cf66b7605cf3c5fcf3313ee7f5 = L.polyline(\n",
       "                [[31.31439, 121.212727], [31.316345, 121.21164], [31.315189, 121.20939], [31.317479, 121.207944]],\n",
       "                {&quot;bubblingMouseEvents&quot;: true, &quot;color&quot;: &quot;green&quot;, &quot;dashArray&quot;: null, &quot;dashOffset&quot;: null, &quot;fill&quot;: false, &quot;fillColor&quot;: &quot;green&quot;, &quot;fillOpacity&quot;: 0.2, &quot;fillRule&quot;: &quot;evenodd&quot;, &quot;lineCap&quot;: &quot;round&quot;, &quot;lineJoin&quot;: &quot;round&quot;, &quot;noClip&quot;: false, &quot;opacity&quot;: 1, &quot;smoothFactor&quot;: 1.0, &quot;stroke&quot;: true, &quot;weight&quot;: 2.5}\n",
       "            ).addTo(map_78877812e1cf993f2bf61f3787c2a176);\n",
       "        \n",
       "    \n",
       "            var poly_line_2b4b7c7bd10b9bb51d6dbfcb76897ffc = L.polyline(\n",
       "                [[31.317456, 121.207962], [31.315879, 121.20431], [31.315262, 121.202841], [31.314367, 121.200829], [31.313854, 121.199576], [31.313673, 121.198511], [31.313708, 121.19755]],\n",
       "                {&quot;bubblingMouseEvents&quot;: true, &quot;color&quot;: &quot;green&quot;, &quot;dashArray&quot;: null, &quot;dashOffset&quot;: null, &quot;fill&quot;: false, &quot;fillColor&quot;: &quot;green&quot;, &quot;fillOpacity&quot;: 0.2, &quot;fillRule&quot;: &quot;evenodd&quot;, &quot;lineCap&quot;: &quot;round&quot;, &quot;lineJoin&quot;: &quot;round&quot;, &quot;noClip&quot;: false, &quot;opacity&quot;: 1, &quot;smoothFactor&quot;: 1.0, &quot;stroke&quot;: true, &quot;weight&quot;: 2.5}\n",
       "            ).addTo(map_78877812e1cf993f2bf61f3787c2a176);\n",
       "        \n",
       "    \n",
       "            var poly_line_b0c8fad6f8dc3f187c251d7c2de2051a = L.polyline(\n",
       "                [[31.324162, 121.233537], [31.327435, 121.230375], [31.327944, 121.229477], [31.331368, 121.226063], [31.335624, 121.222075], [31.336765, 121.224734], [31.337043, 121.227465], [31.335902, 121.232064], [31.336179, 121.234184], [31.337012, 121.235981], [31.336426, 121.241586], [31.33655, 121.243167], [31.33692, 121.244533], [31.339171, 121.250246], [31.340713, 121.253228], [31.341145, 121.254342], [31.34165, 121.255276], [31.333338, 121.260181], [31.334479, 121.263514], [31.337348, 121.26187]],\n",
       "                {&quot;bubblingMouseEvents&quot;: true, &quot;color&quot;: &quot;green&quot;, &quot;dashArray&quot;: null, &quot;dashOffset&quot;: null, &quot;fill&quot;: false, &quot;fillColor&quot;: &quot;green&quot;, &quot;fillOpacity&quot;: 0.2, &quot;fillRule&quot;: &quot;evenodd&quot;, &quot;lineCap&quot;: &quot;round&quot;, &quot;lineJoin&quot;: &quot;round&quot;, &quot;noClip&quot;: false, &quot;opacity&quot;: 1, &quot;smoothFactor&quot;: 1.0, &quot;stroke&quot;: true, &quot;weight&quot;: 2.5}\n",
       "            ).addTo(map_78877812e1cf993f2bf61f3787c2a176);\n",
       "        \n",
       "    \n",
       "            var poly_line_8f09d664884b051a053a0064e17fe6ac = L.polyline(\n",
       "                [[31.324223, 121.233591], [31.327227, 121.230536], [31.327906, 121.229512], [31.329371, 121.227913], [31.335679, 121.222092], [31.33665, 121.224446], [31.337113, 121.226584], [31.33682, 121.229135], [31.335848, 121.232548], [31.336912, 121.23598], [31.33702, 121.236932], [31.336959, 121.23783], [31.336373, 121.242106], [31.336866, 121.244424], [31.341153, 121.254197], [31.341435, 121.25515], [31.333169, 121.260252], [31.334048, 121.262121], [31.336731, 121.260702]],\n",
       "                {&quot;bubblingMouseEvents&quot;: true, &quot;color&quot;: &quot;green&quot;, &quot;dashArray&quot;: null, &quot;dashOffset&quot;: null, &quot;fill&quot;: false, &quot;fillColor&quot;: &quot;green&quot;, &quot;fillOpacity&quot;: 0.2, &quot;fillRule&quot;: &quot;evenodd&quot;, &quot;lineCap&quot;: &quot;round&quot;, &quot;lineJoin&quot;: &quot;round&quot;, &quot;noClip&quot;: false, &quot;opacity&quot;: 1, &quot;smoothFactor&quot;: 1.0, &quot;stroke&quot;: true, &quot;weight&quot;: 2.5}\n",
       "            ).addTo(map_78877812e1cf993f2bf61f3787c2a176);\n",
       "        \n",
       "    \n",
       "            var layer_control_08f02a88303bbbee7d65aa45fbaa81ab = {\n",
       "                base_layers : {\n",
       "                    &quot;stamentoner&quot; : tile_layer_a8a9260cec07f4271629d13bd7c85c66,\n",
       "                },\n",
       "                overlays :  {\n",
       "                },\n",
       "            };\n",
       "            L.control.layers(\n",
       "                layer_control_08f02a88303bbbee7d65aa45fbaa81ab.base_layers,\n",
       "                layer_control_08f02a88303bbbee7d65aa45fbaa81ab.overlays,\n",
       "                {&quot;autoZIndex&quot;: true, &quot;collapsed&quot;: true, &quot;position&quot;: &quot;topright&quot;}\n",
       "            ).addTo(map_78877812e1cf993f2bf61f3787c2a176);\n",
       "        \n",
       "&lt;/script&gt;\n",
       "&lt;/html&gt;\" style=\"position:absolute;width:100%;height:100%;left:0;top:0;border:none !important;\" allowfullscreen webkitallowfullscreen mozallowfullscreen></iframe></div></div>"
      ],
      "text/plain": [
       "<folium.folium.Map at 0x7f865e772400>"
      ]
     },
     "execution_count": 55,
     "metadata": {},
     "output_type": "execute_result"
    }
   ],
   "source": [
    "def coords_plot(section_coords):\n",
    "    section_lon = [coord[0] for coord in section_coords]\n",
    "    section_lat = [coord[1] for coord in section_coords]   \n",
    "    # 绘制bsection和gsection线段\n",
    "    ax.plot(section_lon, section_lat, label='bsection')\n",
    "    # 添加图例、坐标轴标签和标题\n",
    "    ax.legend()\n",
    "    ax.set_xlabel('lon')\n",
    "    ax.set_ylabel('lat')\n",
    "\n",
    "import folium\n",
    "from IPython.display import IFrame\n",
    "# 创建地图对象\n",
    "m = folium.Map(location=[31.3189, 121.4346],tiles='Stamen Toner', zoom_start=12, prefer_canvas=True,alpha=0.5)\n",
    "\n",
    "\n",
    "# 创建画布和子图\n",
    "# fig, ax = plt.subplots()\n",
    "for sec in df_target['bsection_vector']:\n",
    "    sec_coord = convert_to_standard_form(sec)\n",
    "    # coords_plot(section_coords=sec_coord)\n",
    "    print(sec_coord)\n",
    "    folium.PolyLine(sec_coord, color='green', weight=2.5, opacity=1).add_to(m)\n",
    "# plt.show()\n",
    "# 添加图层控制\n",
    "folium.LayerControl().add_to(m)\n",
    "\n",
    "# 在Notebook中显示HTML文件\n",
    "# IFrame(src='../../output/map70.html', width='100%', height='500px')\n",
    "m"
   ]
  },
  {
   "cell_type": "code",
   "execution_count": 28,
   "metadata": {},
   "outputs": [
    {
     "name": "stderr",
     "output_type": "stream",
     "text": [
      "/home/step/anaconda3/envs/xclds/lib/python3.9/site-packages/IPython/core/pylabtools.py:151: UserWarning: Glyph 21644 (\\N{CJK UNIFIED IDEOGRAPH-548C}) missing from current font.\n",
      "  fig.canvas.print_figure(bytes_io, **kw)\n",
      "/home/step/anaconda3/envs/xclds/lib/python3.9/site-packages/IPython/core/pylabtools.py:151: UserWarning: Glyph 30340 (\\N{CJK UNIFIED IDEOGRAPH-7684}) missing from current font.\n",
      "  fig.canvas.print_figure(bytes_io, **kw)\n",
      "/home/step/anaconda3/envs/xclds/lib/python3.9/site-packages/IPython/core/pylabtools.py:151: UserWarning: Glyph 22352 (\\N{CJK UNIFIED IDEOGRAPH-5750}) missing from current font.\n",
      "  fig.canvas.print_figure(bytes_io, **kw)\n",
      "/home/step/anaconda3/envs/xclds/lib/python3.9/site-packages/IPython/core/pylabtools.py:151: UserWarning: Glyph 26631 (\\N{CJK UNIFIED IDEOGRAPH-6807}) missing from current font.\n",
      "  fig.canvas.print_figure(bytes_io, **kw)\n",
      "/home/step/anaconda3/envs/xclds/lib/python3.9/site-packages/IPython/core/pylabtools.py:151: UserWarning: Glyph 32447 (\\N{CJK UNIFIED IDEOGRAPH-7EBF}) missing from current font.\n",
      "  fig.canvas.print_figure(bytes_io, **kw)\n",
      "/home/step/anaconda3/envs/xclds/lib/python3.9/site-packages/IPython/core/pylabtools.py:151: UserWarning: Glyph 27573 (\\N{CJK UNIFIED IDEOGRAPH-6BB5}) missing from current font.\n",
      "  fig.canvas.print_figure(bytes_io, **kw)\n",
      "/home/step/anaconda3/envs/xclds/lib/python3.9/site-packages/IPython/core/pylabtools.py:151: UserWarning: Glyph 22270 (\\N{CJK UNIFIED IDEOGRAPH-56FE}) missing from current font.\n",
      "  fig.canvas.print_figure(bytes_io, **kw)\n",
      "/home/step/anaconda3/envs/xclds/lib/python3.9/site-packages/IPython/core/pylabtools.py:151: UserWarning: Glyph 32463 (\\N{CJK UNIFIED IDEOGRAPH-7ECF}) missing from current font.\n",
      "  fig.canvas.print_figure(bytes_io, **kw)\n",
      "/home/step/anaconda3/envs/xclds/lib/python3.9/site-packages/IPython/core/pylabtools.py:151: UserWarning: Glyph 24230 (\\N{CJK UNIFIED IDEOGRAPH-5EA6}) missing from current font.\n",
      "  fig.canvas.print_figure(bytes_io, **kw)\n",
      "/home/step/anaconda3/envs/xclds/lib/python3.9/site-packages/IPython/core/pylabtools.py:151: UserWarning: Glyph 32428 (\\N{CJK UNIFIED IDEOGRAPH-7EAC}) missing from current font.\n",
      "  fig.canvas.print_figure(bytes_io, **kw)\n"
     ]
    },
    {
     "data": {
      "image/png": "[encoded data removed]",
      "text/plain": [
       "<Figure size 640x480 with 1 Axes>"
      ]
     },
     "metadata": {},
     "output_type": "display_data"
    }
   ],
   "source": [
    "\n",
    "import matplotlib.pyplot as plt\n",
    "# 提取bsection和gsection的经度和纬度\n",
    "\n",
    "\n",
    "gsection_lon = [coord[0] for coord in gsection_coords]\n",
    "gsection_lat = [coord[1] for coord in gsection_coords]\n",
    "\n",
    "\n",
    "\n",
    "\n",
    "\n",
    "# 显示图形\n",
    "plt.show()"
   ]
  }
 ],
 "metadata": {
  "kernelspec": {
   "display_name": "Python 3.9.13 ('xclds')",
   "language": "python",
   "name": "python3"
  },
  "language_info": {
   "codemirror_mode": {
    "name": "ipython",
    "version": 3
   },
   "file_extension": ".py",
   "mimetype": "text/x-python",
   "name": "python",
   "nbconvert_exporter": "python",
   "pygments_lexer": "ipython3",
   "version": "3.9.13"
  },
  "orig_nbformat": 4,
  "vscode": {
   "interpreter": {
    "hash": "9f1e55e74c766e763530812631a72120f1fc83c0fcf0b61c7a0638716cdefb0e"
   }
  }
 },
 "nbformat": 4,
 "nbformat_minor": 2
}
