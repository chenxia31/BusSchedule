{
 "cells": [
  {
   "cell_type": "code",
   "execution_count": 1,
   "metadata": {},
   "outputs": [],
   "source": [
    "import pandas as pd\n",
    "import numpy as np\n",
    "import matplotlib.pyplot as plt\n",
    "import matplotlib as mpl\n",
    "import sys\n",
    "sys.path.append('../../')\n",
    "from utils.originalTimetableParsing import *\n",
    "from utils.timetableVisual import *\n",
    "mm = 1/25.4\n",
    "plt.rcParams['font.family']= \"Times New Roman\"\n",
    "mpl.rcParams['xtick.labelsize'] = 10\n",
    "mpl.rcParams['ytick.labelsize'] = 10\n",
    "plt.rcParams['mathtext.fontset']='cm'\n",
    "plt.style.use('tableau-colorblind10')"
   ]
  },
  {
   "cell_type": "code",
   "execution_count": 3,
   "metadata": {},
   "outputs": [],
   "source": [
    "# 按照嘉定公交选择对应的sheet下标（可供计算的sheet为第三个）\n",
    "choiceSheet=2\n",
    "\n",
    "rawdfTimetable=pd.read_excel('../../data/schedule/Road01.xls',sheet_name=choiceSheet)\n",
    "# utils.originalTimetableParsing.chooseIndexFromOrigin  从原始时刻表中选择可以解析的区域\n",
    "df1=chooseIndexFromOrigin(rawdfTimetable)\n",
    "# utils.originalTimetableParsing.splitTimetale 从解析区域中选择 weekend和weekday之间的区域\n",
    "df_weekday,df_weekend=splitTimetable(df1)\n",
    "# 返回新的timetable 和runningTimeArray 的解析\n",
    "timetableChain,runningTimeArray=reshapeTimeTable(df_weekday)"
   ]
  },
  {
   "cell_type": "code",
   "execution_count": 4,
   "metadata": {},
   "outputs": [],
   "source": [
    "# 由此得到departure time\n",
    "timetableArray,departureTime,headway=formatTimetaleArray(timetableChain,runningTimeArray)\n",
    "# 由此得到running time\n",
    "runningPoint,runningTime=formatTurnningTime(departureTime)"
   ]
  },
  {
   "cell_type": "code",
   "execution_count": 5,
   "metadata": {},
   "outputs": [],
   "source": [
    "timetableChain=timetableChainFill(timetableChain)"
   ]
  },
  {
   "cell_type": "code",
   "execution_count": 6,
   "metadata": {},
   "outputs": [
    {
     "name": "stdout",
     "output_type": "stream",
     "text": [
      "                  Unnamed: 2 Unnamed: 4 Unnamed: 6 Unnamed: 8 Unnamed: 10   \n",
      "嘉 定 1 路 行 车 时 刻 表                                                           \n",
      "路牌                         北         新城          北         新城           北  \\\n",
      "1                   04:50:00   05:45:00   06:50:00   08:20:00    09:45:00   \n",
      "2                   05:10:00   06:00:00   07:00:00   08:40:00    09:55:00   \n",
      "3                         -2         -2   07:20:00   09:00:00    10:25:00   \n",
      "4                         -2         -2   07:10:00   08:50:00    10:15:00   \n",
      "5                         -2         -2   07:05:00   08:30:00    10:05:00   \n",
      "6                   05:25:00   06:15:00   07:30:00   09:08:00    10:35:00   \n",
      "7                         -2         -2   07:45:00   09:16:00    10:45:00   \n",
      "8                   05:40:00   06:30:00   08:00:00   09:24:00          -3   \n",
      "9                   05:50:00   06:45:00   08:15:00   09:32:00    10:55:00   \n",
      "10                  06:00:00   07:00:00   08:30:00   09:40:00    11:10:00   \n",
      "11                  06:10:00   07:15:00   08:45:00   09:50:00    11:25:00   \n",
      "12                  06:35:00   07:40:00   08:55:00   10:00:00          -3   \n",
      "13                  06:45:00   08:00:00   09:15:00   10:20:00          -3   \n",
      "14                  06:20:00   07:30:00   09:05:00   10:10:00    11:40:00   \n",
      "15                  06:30:00   07:50:00   09:25:00   10:30:00    11:55:00   \n",
      "16                  06:40:00   08:10:00   09:35:00   10:40:00    12:10:00   \n",
      "\n",
      "                  Unnamed: 12 Unnamed: 14 Unnamed: 16 Unnamed: 18 Unnamed: 20   \n",
      "嘉 定 1 路 行 车 时 刻 表                                                               \n",
      "路牌                         新城           北          新城           北          新城  \\\n",
      "1                    10:50:00          -3          -3          -3          -3   \n",
      "2                    11:00:00    12:25:00    13:30:00          -3          -3   \n",
      "3                    11:30:00          -3          -3    14:40:00    15:45:00   \n",
      "4                    11:20:00    12:40:00    13:45:00    14:55:00    16:00:00   \n",
      "5                    11:10:00          -3          -3    15:10:00    16:15:00   \n",
      "6                    11:40:00    12:55:00    14:00:00          -3          -3   \n",
      "7                    11:50:00          -3          -3    15:25:00    16:30:00   \n",
      "8                          -3    13:10:00    14:15:00    15:40:00    16:45:00   \n",
      "9                    12:00:00    13:25:00    14:30:00          -3          -3   \n",
      "10                   12:15:00    13:40:00    14:45:00    15:50:00    17:00:00   \n",
      "11                         -3          -3    15:50:00    16:00:00    17:12:00   \n",
      "12                         -3          -3          -3    16:10:00    17:24:00   \n",
      "13                         -3          -3          -3    16:20:00    17:36:00   \n",
      "14                   12:45:00    13:55:00    15:00:00    16:30:00    17:48:00   \n",
      "15                   13:00:00    14:10:00    15:15:00    16:40:00    18:00:00   \n",
      "16                   13:15:00    14:25:00    15:30:00    16:50:00    18:10:00   \n",
      "\n",
      "                  Unnamed: 22 Unnamed: 24 Unnamed: 26 Unnamed: 28  \n",
      "嘉 定 1 路 行 车 时 刻 表                                                  \n",
      "路牌                          北          新城           北          新城  \n",
      "1                    17:00:00    18:20:00    19:30:00    20:30:00  \n",
      "2                    17:10:00    18:30:00    19:45:00    20:45:00  \n",
      "3                    17:20:00    18:40:00    20:00:00    21:00:00  \n",
      "4                    17:30:00    18:50:00          -1          -1  \n",
      "5                    17:45:00    19:00:00          -1          -1  \n",
      "6                    18:00:00    19:10:00    20:15:00    21:15:00  \n",
      "7                    18:15:00    19:20:00    20:30:00    21:30:00  \n",
      "8                    18:30:00    19:30:00    20:45:00    21:45:00  \n",
      "9                    18:45:00    19:45:00    21:05:00    22:00:00  \n",
      "10                         -1          -1          -1          -1  \n",
      "11                   19:00:00    20:00:00          -1          -1  \n",
      "12                         -1          -1          -1          -1  \n",
      "13                   19:15:00    20:15:00          -1          -1  \n",
      "14                         -1          -1          -1          -1  \n",
      "15                         -1          -1          -1          -1  \n",
      "16                         -1          -1          -1          -1  \n"
     ]
    }
   ],
   "source": [
    "print(timetableChain)"
   ]
  },
  {
   "cell_type": "markdown",
   "metadata": {},
   "source": [
    "## distribution of headway and running time"
   ]
  },
  {
   "cell_type": "code",
   "execution_count": 7,
   "metadata": {},
   "outputs": [
    {
     "ename": "NameError",
     "evalue": "name 'turning_point' is not defined",
     "output_type": "error",
     "traceback": [
      "\u001b[0;31m---------------------------------------------------------------------------\u001b[0m",
      "\u001b[0;31mNameError\u001b[0m                                 Traceback (most recent call last)",
      "Cell \u001b[0;32mIn [7], line 1\u001b[0m\n\u001b[0;32m----> 1\u001b[0m \u001b[38;5;28mprint\u001b[39m(turning_point)\n\u001b[1;32m      2\u001b[0m \u001b[38;5;28mprint\u001b[39m(turning_time)\n",
      "\u001b[0;31mNameError\u001b[0m: name 'turning_point' is not defined"
     ]
    }
   ],
   "source": [
    "print(turning_point)\n",
    "print(turning_time)"
   ]
  },
  {
   "cell_type": "code",
   "execution_count": 8,
   "metadata": {},
   "outputs": [
    {
     "data": {
      "image/png": "[encoded data removed]",
      "text/plain": [
       "<Figure size 640x480 with 1 Axes>"
      ]
     },
     "metadata": {},
     "output_type": "display_data"
    }
   ],
   "source": [
    "import copy\n",
    "plt.figure()\n",
    "# point 和time的修正\n",
    "turning_point = copy.deepcopy(runningPoint)\n",
    "turning_time = copy.deepcopy(runningTime)\n",
    "for i in range(2):\n",
    "    turning_point[i].insert(0,0)\n",
    "    turning_time[i].insert(0,turning_time[i][0])\n",
    "    turning_point[i].append(2000)\n",
    "    turning_time[i].append(turning_time[i][-1])\n",
    "    turning_time[i].append(turning_time[i][-1])\n",
    "for i in range(2):\n",
    "    plt.step(turning_point[i],turning_time[i])\n",
    "plt.ylabel('Running time(min)')\n",
    "plt.xlim(0,1440)\n",
    "plt.ylim(20,100)\n",
    "plt.xlabel('Timestamp')\n",
    "plt.legend(['upstream','downstream'])\n",
    "plt.show()"
   ]
  },
  {
   "cell_type": "code",
   "execution_count": 9,
   "metadata": {},
   "outputs": [
    {
     "name": "stdout",
     "output_type": "stream",
     "text": [
      "[[20, 20, 15, 15, 10, 10, 10, 10, 10, 5, 5, 5, 5, 10, 5, 5, 10, 10, 15, 15, 15, 15, 15, 10, 10, 10, 10, 10, 10, 10, 10, 10, 10, 10, 10, 10, 15, 15, 15, 15, 15, 15, 15, 15, 15, 15, 15, 15, 15, 15, 15, 15, 15, 15, 15, 10, 10, 10, 10, 10, 10, 10, 10, 10, 10, 10, 15, 15, 15, 15, 15, 15, 15, 15, 15, 15, 15, 15, 15, 20, 20, 20], [15, 15, 15, 15, 15, 15, 15, 15, 10, 10, 10, 10, 10, 10, 10, 10, 10, 8, 8, 8, 8, 8, 10, 10, 10, 10, 10, 10, 10, 10, 10, 10, 10, 10, 10, 10, 15, 30, 15, 15, 15, 15, 15, 15, 15, 15, 15, 15, 15, 15, 5, 10, 15, 15, 15, 15, 12, 12, 12, 12, 12, 10, 10, 10, 10, 10, 10, 10, 10, 10, 15, 15, 15, 15, 15, 15, 15, 15, 15, 15, 15, 15]]\n",
      "[[0, 290, 310, 325, 340, 350, 360, 370, 380, 390, 395, 400, 405, 410, 420, 425, 430, 440, 450, 465, 480, 495, 510, 525, 535, 545, 555, 565, 575, 585, 595, 605, 615, 625, 635, 645, 655, 670, 685, 700, 715, 730, 745, 760, 775, 790, 805, 820, 835, 850, 865, 880, 895, 910, 925, 940, 950, 960, 970, 980, 990, 1000, 1010, 1020, 1030, 1040, 1050, 1065, 1080, 1095, 1110, 1125, 1140, 1155, 1170, 1185, 1200, 1215, 1230, 1245, 1265, 2000], [0, 345, 360, 375, 390, 405, 420, 435, 450, 460, 470, 480, 490, 500, 510, 520, 530, 540, 548, 556, 564, 572, 580, 590, 600, 610, 620, 630, 640, 650, 660, 670, 680, 690, 700, 710, 720, 735, 765, 780, 795, 810, 825, 840, 855, 870, 885, 900, 915, 930, 945, 950, 960, 975, 990, 1005, 1020, 1032, 1044, 1056, 1068, 1080, 1090, 1100, 1110, 1120, 1130, 1140, 1150, 1160, 1170, 1185, 1200, 1215, 1230, 1245, 1260, 1275, 1290, 1305, 1320, 2000]]\n"
     ]
    },
    {
     "data": {
      "image/png": "[encoded data removed]",
      "text/plain": [
       "<Figure size 640x480 with 1 Axes>"
      ]
     },
     "metadata": {},
     "output_type": "display_data"
    }
   ],
   "source": [
    "def departureTime2Headway(departureTime):\n",
    "    ''' \n",
    "    返回headway和headway time\n",
    "    '''\n",
    "    depTimeDF=pd.DataFrame(departureTime)\n",
    "    # upstream\n",
    "    upDepTimeDF=depTimeDF[depTimeDF.iloc[:,2]==0]\n",
    "    # downstream\n",
    "    downDepTimeDF=depTimeDF[depTimeDF.iloc[:,2]==1]\n",
    "    upHeaadwayPoint=list(upDepTimeDF.iloc[:,0].sort_values())\n",
    "    upHeaadwayTime=[upHeaadwayPoint[i+1] - upHeaadwayPoint[i] for i in range(len(upHeaadwayPoint)-1)]\n",
    "    downHeadwayPoint=list(downDepTimeDF.iloc[:,0].sort_values())\n",
    "    downHeadwayTime=[downHeadwayPoint[i+1] - downHeadwayPoint[i] for i in range(len(downHeadwayPoint)-1)]\n",
    "    return [upHeaadwayPoint,downHeadwayPoint],[upHeaadwayTime,downHeadwayTime]\n",
    "\n",
    "headwayPoint,headwayTime=departureTime2Headway(departureTime)\n",
    "\n",
    "runningTimeView(headwayPoint,headwayTime,title='headwayTime')"
   ]
  },
  {
   "cell_type": "markdown",
   "metadata": {},
   "source": [
    "## Meal time"
   ]
  },
  {
   "cell_type": "code",
   "execution_count": 10,
   "metadata": {},
   "outputs": [
    {
     "data": {
      "text/plain": [
       "(0.0, 1440.0)"
      ]
     },
     "execution_count": 10,
     "metadata": {},
     "output_type": "execute_result"
    },
    {
     "data": {
      "image/png": "[encoded data removed]",
      "text/plain": [
       "<Figure size 640x480 with 1 Axes>"
      ]
     },
     "metadata": {},
     "output_type": "display_data"
    }
   ],
   "source": [
    "# 获取meal time\n",
    "import copy\n",
    "mealTimeList=[]\n",
    "for driver in timetableArray:\n",
    "    meal_time=[]\n",
    "    for i in range(len(driver)-1):\n",
    "        if driver[i+1][0]-driver[i][0] > 30+get_moment_direction(runningPoint,runningTime,driver[i][0],driver[i][1]):\n",
    "            # 选用前面的时间点\n",
    "            meal_time.append(driver[i][0]+get_moment_direction(runningPoint,runningTime,driver[i][0],driver[i][1])+10)\n",
    "            meal_time.append(meal_time[-1]+25)\n",
    "            break\n",
    "    mealTimeList.append(copy.deepcopy(meal_time))\n",
    "\n",
    "def countMealTime(mealTimeList):\n",
    "    ''' \n",
    "    统计司机的吃饭时间和对应的数量\n",
    "\n",
    "    args:\n",
    "    mealTimeList:吃饭时间[[i,o],[i,o],...]\n",
    "\n",
    "    return:\n",
    "    mealIntervals:分段的时间\n",
    "    mealCount:分段的数量\n",
    "    '''\n",
    "    inputTime=[d[0] for d in mealTimeList]\n",
    "    outputTime=[d[1] for d in mealTimeList]\n",
    "    inputTime.sort()\n",
    "    outputTime.sort()\n",
    "    # 排序之后开始counting\n",
    "    mealIntervals=[0]\n",
    "    mealCount=[0]\n",
    "    while inputTime and outputTime:\n",
    "        if min(inputTime[0],outputTime[0]) ==  inputTime[0]:\n",
    "            # 如果现在是增加\n",
    "            mealIntervals.append(inputTime.pop(0))\n",
    "            mealCount.append(mealCount[-1]+1)\n",
    "        else:\n",
    "            # 限制是离开\n",
    "            mealIntervals.append(outputTime.pop(0))\n",
    "            mealCount.append(mealCount[-1]-1)\n",
    "    while(outputTime):\n",
    "        mealIntervals.append(outputTime.pop(0))\n",
    "        mealCount.append(mealCount[-1]-1)\n",
    "    return mealIntervals,mealCount\n",
    "a,b=countMealTime(mealTimeList)\n",
    "a.insert(0,0)\n",
    "b.insert(0,0)\n",
    "a.append(1440)\n",
    "b.append(0)\n",
    "plt.step(a,b)\n",
    "plt.xlim(0,1440)"
   ]
  },
  {
   "cell_type": "markdown",
   "metadata": {},
   "source": [
    "## Driver Work Mode"
   ]
  },
  {
   "cell_type": "code",
   "execution_count": 11,
   "metadata": {},
   "outputs": [
    {
     "data": {
      "text/plain": [
       "Text(74.44444444444444, 0.5, 'Driver index')"
      ]
     },
     "execution_count": 11,
     "metadata": {},
     "output_type": "execute_result"
    },
    {
     "data": {
      "image/png": "[encoded data removed]",
      "text/plain": [
       "<Figure size 640x480 with 2 Axes>"
      ]
     },
     "metadata": {},
     "output_type": "display_data"
    }
   ],
   "source": [
    "import seaborn as sns\n",
    "sns.heatmap(timetableChain==-3,\n",
    "            cmap='crest',\n",
    "            xticklabels='',\n",
    "            yticklabels='',\n",
    "            )\n",
    "plt.ylabel('Driver index')"
   ]
  },
  {
   "cell_type": "code",
   "execution_count": 12,
   "metadata": {},
   "outputs": [
    {
     "data": {
      "text/plain": [
       "[<matplotlib.lines.Line2D at 0x7f7b0a375220>]"
      ]
     },
     "execution_count": 12,
     "metadata": {},
     "output_type": "execute_result"
    },
    {
     "data": {
      "image/png": "[encoded data removed]",
      "text/plain": [
       "<Figure size 640x480 with 1 Axes>"
      ]
     },
     "metadata": {},
     "output_type": "display_data"
    }
   ],
   "source": [
    "def datetime2int(time):\n",
    "    return time.hour*60+time.minute\n",
    "def workmodeTimeFromTimetableChain(timetableChain):\n",
    "    ''' \n",
    "    获取司机两头班的开始时间和结束时间\n",
    "\n",
    "    input:\n",
    "    timetableChain: 原始时刻表解析的dataframe格式,填充-1下班 -2上班 -3两头班\n",
    "\n",
    "    return:\n",
    "    workmodeList:workmode list\n",
    "    '''\n",
    "    workmodeList=[]\n",
    "    for i in range(1,len(timetableChain)):\n",
    "        workmode=[]\n",
    "        flag=1\n",
    "        for j in range(len(timetableChain.iloc[i,:])):\n",
    "            # 对于每一行\n",
    "            if timetableChain.iloc[i,j]==-3 and flag==1:\n",
    "                workmode.append(datetime2int(timetableChain.iloc[i,j-1])+get_moment_direction(runningPoint,runningTime,datetime2int(timetableChain.iloc[i,j-1]),1))\n",
    "                flag=0\n",
    "            if timetableChain.iloc[i,j]!=-3 and flag==0:\n",
    "                workmode.append(datetime2int(timetableChain.iloc[i,j]))\n",
    "                flag=1\n",
    "        if workmode:\n",
    "            workmodeList.append(copy.deepcopy(workmode))\n",
    "    return workmodeList\n",
    "workmodeList=workmodeTimeFromTimetableChain(timetableChain)\n",
    "a,b=countMealTime(workmodeList)\n",
    "plt.step(a,b)\n"
   ]
  }
 ],
 "metadata": {
  "kernelspec": {
   "display_name": "Python 3.9.13 ('xclds')",
   "language": "python",
   "name": "python3"
  },
  "language_info": {
   "codemirror_mode": {
    "name": "ipython",
    "version": 3
   },
   "file_extension": ".py",
   "mimetype": "text/x-python",
   "name": "python",
   "nbconvert_exporter": "python",
   "pygments_lexer": "ipython3",
   "version": "3.9.13"
  },
  "orig_nbformat": 4,
  "vscode": {
   "interpreter": {
    "hash": "9f1e55e74c766e763530812631a72120f1fc83c0fcf0b61c7a0638716cdefb0e"
   }
  }
 },
 "nbformat": 4,
 "nbformat_minor": 2
}
